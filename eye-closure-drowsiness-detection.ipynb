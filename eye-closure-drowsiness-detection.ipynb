{
  "nbformat": 4,
  "nbformat_minor": 0,
  "metadata": {
    "colab": {
      "name": "new.ipynb",
      "provenance": [],
      "collapsed_sections": []
    },
    "kernelspec": {
      "name": "python3",
      "display_name": "Python 3"
    },
    "accelerator": "GPU"
  },
  "cells": [
    {
      "cell_type": "code",
      "metadata": {
        "id": "JhxyaoA0gCTQ"
      },
      "source": [
        "from keras.preprocessing.image import ImageDataGenerator\r\n",
        "from keras.models import Sequential\r\n",
        "from keras.layers import Conv2D,MaxPooling2D\r\n",
        "from keras.layers import Activation,Dropout,Flatten,Dense\r\n",
        "from keras import backend as K\r\n",
        "import numpy as np\r\n",
        "from keras.preprocessing import image"
      ],
      "execution_count": null,
      "outputs": []
    },
    {
      "cell_type": "code",
      "metadata": {
        "id": "hT1DG2FSg5jS"
      },
      "source": [
        "img_width,img_height=150,150\r\n",
        "train_data_dir='/content/drive/MyDrive/eye_new/train'\r\n",
        "validation_data_dir='/content/drive/MyDrive/eye_new/test'\r\n",
        "nb_train_samples=5257\r\n",
        "nb_validation_samples=226\r\n",
        "epochs=50\r\n",
        "batch_size=104\r\n",
        "if K.image_data_format()=='channels_first':\r\n",
        "  input_shape=(3,img_width,img_height)\r\n",
        "else:\r\n",
        "  input_shape=(img_width,img_height,3)\r\n",
        "    "
      ],
      "execution_count": null,
      "outputs": []
    },
    {
      "cell_type": "code",
      "metadata": {
        "id": "e5xHxr1eiTIV"
      },
      "source": [
        "train_datagen=ImageDataGenerator(rescale=1./255,shear_range=0.2,zoom_range=0.2,horizontal_flip=True)\r\n",
        "test_datagen=ImageDataGenerator(rescale=1./255)\r\n"
      ],
      "execution_count": null,
      "outputs": []
    },
    {
      "cell_type": "code",
      "metadata": {
        "id": "eW_3V9-9i2Qk",
        "colab": {
          "base_uri": "https://localhost:8080/"
        },
        "outputId": "0f377cea-adbd-41a7-db2d-3077d4e6515c"
      },
      "source": [
        "train_generator=train_datagen.flow_from_directory(train_data_dir,target_size=(img_width,img_height),batch_size=batch_size,class_mode='binary')"
      ],
      "execution_count": null,
      "outputs": [
        {
          "output_type": "stream",
          "text": [
            "Found 5257 images belonging to 2 classes.\n"
          ],
          "name": "stdout"
        }
      ]
    },
    {
      "cell_type": "code",
      "metadata": {
        "id": "eHBDZbpwjx-E",
        "colab": {
          "base_uri": "https://localhost:8080/"
        },
        "outputId": "98653216-67f3-471f-b028-eb2e49b89270"
      },
      "source": [
        "validation_generator=test_datagen.flow_from_directory(validation_data_dir,target_size=(img_width,img_height),batch_size=batch_size,class_mode='binary')"
      ],
      "execution_count": null,
      "outputs": [
        {
          "output_type": "stream",
          "text": [
            "Found 226 images belonging to 2 classes.\n"
          ],
          "name": "stdout"
        }
      ]
    },
    {
      "cell_type": "code",
      "metadata": {
        "id": "6ni_APTRkPcx"
      },
      "source": [
        "model=Sequential()\r\n",
        "model.add(Conv2D(32,(3,3),input_shape=input_shape))\r\n",
        "model.add(Activation('relu'))\r\n",
        "model.add(MaxPooling2D(pool_size=(2,2)))"
      ],
      "execution_count": null,
      "outputs": []
    },
    {
      "cell_type": "code",
      "metadata": {
        "id": "9GVC4iwYmBtV"
      },
      "source": [
        "\r\n",
        "model.add(Conv2D(32,(3,3)))\r\n",
        "model.add(Activation('relu'))\r\n",
        "model.add(MaxPooling2D(pool_size=(2,2)))"
      ],
      "execution_count": null,
      "outputs": []
    },
    {
      "cell_type": "code",
      "metadata": {
        "id": "otjxXhKvlBr4",
        "colab": {
          "base_uri": "https://localhost:8080/"
        },
        "outputId": "65d74d89-3d9d-4d84-d8da-f280e3e0355e"
      },
      "source": [
        "\r\n",
        "model.add(Conv2D(64,(3,3)))\r\n",
        "model.add(Activation('relu'))\r\n",
        "model.add(MaxPooling2D(pool_size=(2,2)))\r\n",
        "\r\n",
        "model.add(Flatten())\r\n",
        "model.add(Dense(64))\r\n",
        "model.add(Activation('relu'))\r\n",
        "model.add(Dropout(0.5))\r\n",
        "model.add(Dense(1))\r\n",
        "model.add(Activation('sigmoid'))\r\n",
        "model.summary()\r\n"
      ],
      "execution_count": null,
      "outputs": [
        {
          "output_type": "stream",
          "text": [
            "Model: \"sequential\"\n",
            "_________________________________________________________________\n",
            "Layer (type)                 Output Shape              Param #   \n",
            "=================================================================\n",
            "conv2d (Conv2D)              (None, 148, 148, 32)      896       \n",
            "_________________________________________________________________\n",
            "activation (Activation)      (None, 148, 148, 32)      0         \n",
            "_________________________________________________________________\n",
            "max_pooling2d (MaxPooling2D) (None, 74, 74, 32)        0         \n",
            "_________________________________________________________________\n",
            "conv2d_1 (Conv2D)            (None, 72, 72, 32)        9248      \n",
            "_________________________________________________________________\n",
            "activation_1 (Activation)    (None, 72, 72, 32)        0         \n",
            "_________________________________________________________________\n",
            "max_pooling2d_1 (MaxPooling2 (None, 36, 36, 32)        0         \n",
            "_________________________________________________________________\n",
            "conv2d_2 (Conv2D)            (None, 34, 34, 64)        18496     \n",
            "_________________________________________________________________\n",
            "activation_2 (Activation)    (None, 34, 34, 64)        0         \n",
            "_________________________________________________________________\n",
            "max_pooling2d_2 (MaxPooling2 (None, 17, 17, 64)        0         \n",
            "_________________________________________________________________\n",
            "flatten (Flatten)            (None, 18496)             0         \n",
            "_________________________________________________________________\n",
            "dense (Dense)                (None, 64)                1183808   \n",
            "_________________________________________________________________\n",
            "activation_3 (Activation)    (None, 64)                0         \n",
            "_________________________________________________________________\n",
            "dropout (Dropout)            (None, 64)                0         \n",
            "_________________________________________________________________\n",
            "dense_1 (Dense)              (None, 1)                 65        \n",
            "_________________________________________________________________\n",
            "activation_4 (Activation)    (None, 1)                 0         \n",
            "=================================================================\n",
            "Total params: 1,212,513\n",
            "Trainable params: 1,212,513\n",
            "Non-trainable params: 0\n",
            "_________________________________________________________________\n"
          ],
          "name": "stdout"
        }
      ]
    },
    {
      "cell_type": "code",
      "metadata": {
        "id": "crzeY9Scl_di",
        "colab": {
          "base_uri": "https://localhost:8080/"
        },
        "outputId": "71527634-7539-4ce3-eafb-f7e4dcd4c624"
      },
      "source": [
        "model.compile(loss='binary_crossentropy',optimizer='adam',metrics=['accuracy'])\r\n",
        "model.fit_generator(train_generator,steps_per_epoch=nb_train_samples // batch_size,epochs=epochs,validation_data=validation_generator,validation_steps=nb_validation_samples // batch_size)"
      ],
      "execution_count": null,
      "outputs": [
        {
          "output_type": "stream",
          "text": [
            "/usr/local/lib/python3.6/dist-packages/tensorflow/python/keras/engine/training.py:1844: UserWarning: `Model.fit_generator` is deprecated and will be removed in a future version. Please use `Model.fit`, which supports generators.\n",
            "  warnings.warn('`Model.fit_generator` is deprecated and '\n"
          ],
          "name": "stderr"
        },
        {
          "output_type": "stream",
          "text": [
            "Epoch 1/50\n",
            "50/50 [==============================] - 3379s 67s/step - loss: 0.7602 - accuracy: 0.6127 - val_loss: 0.3136 - val_accuracy: 0.8798\n",
            "Epoch 2/50\n",
            "50/50 [==============================] - 41s 825ms/step - loss: 0.3268 - accuracy: 0.8772 - val_loss: 0.2710 - val_accuracy: 0.9279\n",
            "Epoch 3/50\n",
            "50/50 [==============================] - 41s 819ms/step - loss: 0.2188 - accuracy: 0.9336 - val_loss: 0.1887 - val_accuracy: 0.9231\n",
            "Epoch 4/50\n",
            "50/50 [==============================] - 42s 831ms/step - loss: 0.2043 - accuracy: 0.9289 - val_loss: 0.1403 - val_accuracy: 0.9471\n",
            "Epoch 5/50\n",
            "50/50 [==============================] - 41s 813ms/step - loss: 0.1344 - accuracy: 0.9556 - val_loss: 0.1336 - val_accuracy: 0.9615\n",
            "Epoch 6/50\n",
            "50/50 [==============================] - 40s 807ms/step - loss: 0.1204 - accuracy: 0.9595 - val_loss: 0.1595 - val_accuracy: 0.9471\n",
            "Epoch 7/50\n",
            "50/50 [==============================] - 40s 802ms/step - loss: 0.1040 - accuracy: 0.9695 - val_loss: 0.1974 - val_accuracy: 0.9375\n",
            "Epoch 8/50\n",
            "50/50 [==============================] - 40s 797ms/step - loss: 0.0833 - accuracy: 0.9752 - val_loss: 0.2006 - val_accuracy: 0.9327\n",
            "Epoch 9/50\n",
            "50/50 [==============================] - 40s 797ms/step - loss: 0.0660 - accuracy: 0.9818 - val_loss: 0.1190 - val_accuracy: 0.9423\n",
            "Epoch 10/50\n",
            "50/50 [==============================] - 39s 784ms/step - loss: 0.0615 - accuracy: 0.9795 - val_loss: 0.1231 - val_accuracy: 0.9375\n",
            "Epoch 11/50\n",
            "50/50 [==============================] - 39s 786ms/step - loss: 0.0535 - accuracy: 0.9839 - val_loss: 0.2613 - val_accuracy: 0.9231\n",
            "Epoch 12/50\n",
            "50/50 [==============================] - 40s 804ms/step - loss: 0.0471 - accuracy: 0.9848 - val_loss: 0.1578 - val_accuracy: 0.9423\n",
            "Epoch 13/50\n",
            "50/50 [==============================] - 39s 788ms/step - loss: 0.0523 - accuracy: 0.9827 - val_loss: 0.1574 - val_accuracy: 0.9712\n",
            "Epoch 14/50\n",
            "50/50 [==============================] - 40s 790ms/step - loss: 0.0581 - accuracy: 0.9855 - val_loss: 0.2069 - val_accuracy: 0.9327\n",
            "Epoch 15/50\n",
            "50/50 [==============================] - 40s 791ms/step - loss: 0.0465 - accuracy: 0.9842 - val_loss: 0.1637 - val_accuracy: 0.9567\n",
            "Epoch 16/50\n",
            "50/50 [==============================] - 40s 795ms/step - loss: 0.0489 - accuracy: 0.9843 - val_loss: 0.1699 - val_accuracy: 0.9663\n",
            "Epoch 17/50\n",
            "50/50 [==============================] - 40s 807ms/step - loss: 0.0337 - accuracy: 0.9882 - val_loss: 0.1176 - val_accuracy: 0.9615\n",
            "Epoch 18/50\n",
            "50/50 [==============================] - 40s 790ms/step - loss: 0.0381 - accuracy: 0.9860 - val_loss: 0.1615 - val_accuracy: 0.9760\n",
            "Epoch 19/50\n",
            "50/50 [==============================] - 40s 791ms/step - loss: 0.0333 - accuracy: 0.9882 - val_loss: 0.1624 - val_accuracy: 0.9567\n",
            "Epoch 20/50\n",
            "50/50 [==============================] - 40s 810ms/step - loss: 0.0244 - accuracy: 0.9921 - val_loss: 0.2451 - val_accuracy: 0.9423\n",
            "Epoch 21/50\n",
            "50/50 [==============================] - 40s 793ms/step - loss: 0.0263 - accuracy: 0.9907 - val_loss: 0.1546 - val_accuracy: 0.9712\n",
            "Epoch 22/50\n",
            "50/50 [==============================] - 39s 786ms/step - loss: 0.0475 - accuracy: 0.9880 - val_loss: 0.1872 - val_accuracy: 0.9567\n",
            "Epoch 23/50\n",
            "50/50 [==============================] - 39s 782ms/step - loss: 0.0255 - accuracy: 0.9889 - val_loss: 0.2070 - val_accuracy: 0.9423\n",
            "Epoch 24/50\n",
            "50/50 [==============================] - 39s 781ms/step - loss: 0.0333 - accuracy: 0.9903 - val_loss: 0.0998 - val_accuracy: 0.9615\n",
            "Epoch 25/50\n",
            "50/50 [==============================] - 39s 786ms/step - loss: 0.0346 - accuracy: 0.9899 - val_loss: 0.1086 - val_accuracy: 0.9615\n",
            "Epoch 26/50\n",
            "50/50 [==============================] - 39s 777ms/step - loss: 0.0234 - accuracy: 0.9920 - val_loss: 0.1632 - val_accuracy: 0.9567\n",
            "Epoch 27/50\n",
            "50/50 [==============================] - 39s 774ms/step - loss: 0.0134 - accuracy: 0.9957 - val_loss: 0.1309 - val_accuracy: 0.9856\n",
            "Epoch 28/50\n",
            "50/50 [==============================] - 40s 797ms/step - loss: 0.0288 - accuracy: 0.9915 - val_loss: 0.1327 - val_accuracy: 0.9567\n",
            "Epoch 29/50\n",
            "50/50 [==============================] - 39s 771ms/step - loss: 0.0283 - accuracy: 0.9939 - val_loss: 0.2136 - val_accuracy: 0.9712\n",
            "Epoch 30/50\n",
            "50/50 [==============================] - 39s 769ms/step - loss: 0.0153 - accuracy: 0.9957 - val_loss: 0.1127 - val_accuracy: 0.9760\n",
            "Epoch 31/50\n",
            "50/50 [==============================] - 38s 762ms/step - loss: 0.0308 - accuracy: 0.9916 - val_loss: 0.1968 - val_accuracy: 0.9712\n",
            "Epoch 32/50\n",
            "50/50 [==============================] - 39s 776ms/step - loss: 0.0184 - accuracy: 0.9955 - val_loss: 0.0748 - val_accuracy: 0.9663\n",
            "Epoch 33/50\n",
            "50/50 [==============================] - 39s 773ms/step - loss: 0.0161 - accuracy: 0.9947 - val_loss: 0.1809 - val_accuracy: 0.9712\n",
            "Epoch 34/50\n",
            "50/50 [==============================] - 39s 773ms/step - loss: 0.0203 - accuracy: 0.9948 - val_loss: 0.1940 - val_accuracy: 0.9663\n",
            "Epoch 35/50\n",
            "50/50 [==============================] - 39s 773ms/step - loss: 0.0351 - accuracy: 0.9903 - val_loss: 0.2815 - val_accuracy: 0.9567\n",
            "Epoch 36/50\n",
            "50/50 [==============================] - 39s 788ms/step - loss: 0.0129 - accuracy: 0.9952 - val_loss: 0.2652 - val_accuracy: 0.9519\n",
            "Epoch 37/50\n",
            "50/50 [==============================] - 38s 767ms/step - loss: 0.0269 - accuracy: 0.9931 - val_loss: 0.1652 - val_accuracy: 0.9712\n",
            "Epoch 38/50\n",
            "50/50 [==============================] - 39s 774ms/step - loss: 0.0145 - accuracy: 0.9956 - val_loss: 0.1788 - val_accuracy: 0.9712\n",
            "Epoch 39/50\n",
            "50/50 [==============================] - 39s 771ms/step - loss: 0.0139 - accuracy: 0.9948 - val_loss: 0.2071 - val_accuracy: 0.9663\n",
            "Epoch 40/50\n",
            "50/50 [==============================] - 39s 781ms/step - loss: 0.0168 - accuracy: 0.9945 - val_loss: 0.2172 - val_accuracy: 0.9663\n",
            "Epoch 41/50\n",
            "50/50 [==============================] - 39s 792ms/step - loss: 0.0097 - accuracy: 0.9969 - val_loss: 0.2219 - val_accuracy: 0.9760\n",
            "Epoch 42/50\n",
            "50/50 [==============================] - 39s 777ms/step - loss: 0.0203 - accuracy: 0.9953 - val_loss: 0.2017 - val_accuracy: 0.9519\n",
            "Epoch 43/50\n",
            "50/50 [==============================] - 39s 773ms/step - loss: 0.0166 - accuracy: 0.9952 - val_loss: 0.2341 - val_accuracy: 0.9760\n",
            "Epoch 44/50\n",
            "50/50 [==============================] - 40s 792ms/step - loss: 0.0196 - accuracy: 0.9944 - val_loss: 0.3410 - val_accuracy: 0.9471\n",
            "Epoch 45/50\n",
            "50/50 [==============================] - 39s 772ms/step - loss: 0.0262 - accuracy: 0.9939 - val_loss: 0.1937 - val_accuracy: 0.9615\n",
            "Epoch 46/50\n",
            "50/50 [==============================] - 39s 772ms/step - loss: 0.0214 - accuracy: 0.9964 - val_loss: 0.2121 - val_accuracy: 0.9760\n",
            "Epoch 47/50\n",
            "50/50 [==============================] - 39s 771ms/step - loss: 0.0078 - accuracy: 0.9969 - val_loss: 0.2611 - val_accuracy: 0.9712\n",
            "Epoch 48/50\n",
            "50/50 [==============================] - 39s 780ms/step - loss: 0.0133 - accuracy: 0.9949 - val_loss: 0.2482 - val_accuracy: 0.9712\n",
            "Epoch 49/50\n",
            "50/50 [==============================] - 39s 772ms/step - loss: 0.0101 - accuracy: 0.9967 - val_loss: 0.3656 - val_accuracy: 0.9712\n",
            "Epoch 50/50\n",
            "50/50 [==============================] - 38s 768ms/step - loss: 0.0301 - accuracy: 0.9955 - val_loss: 0.1949 - val_accuracy: 0.9712\n"
          ],
          "name": "stdout"
        },
        {
          "output_type": "execute_result",
          "data": {
            "text/plain": [
              "<tensorflow.python.keras.callbacks.History at 0x7f5976f936d8>"
            ]
          },
          "metadata": {
            "tags": []
          },
          "execution_count": 10
        }
      ]
    },
    {
      "cell_type": "code",
      "metadata": {
        "colab": {
          "base_uri": "https://localhost:8080/"
        },
        "id": "_4s2n_o_1TYT",
        "outputId": "ef984c7c-828d-47a1-94ae-6823e3bcf5dd"
      },
      "source": [
        "img_pred=image.load_img(\"/content/drive/MyDrive/eye_new/test/Open_Eyes/_163.jpg\",target_size=(150,150))\r\n",
        "img_pred=image.img_to_array(img_pred)\r\n",
        "img_pred=np.expand_dims(img_pred,axis=0)\r\n",
        "rslt=model.predict(img_pred)\r\n",
        "print(rslt)"
      ],
      "execution_count": null,
      "outputs": [
        {
          "output_type": "stream",
          "text": [
            "[[1.]]\n"
          ],
          "name": "stdout"
        }
      ]
    },
    {
      "cell_type": "code",
      "metadata": {
        "id": "fD5aV2uU2VlN"
      },
      "source": [
        "\r\n",
        "img_pred=image.load_img('/content/drive/MyDrive/eye_new/test/Closed_Eyes/_181.jpg',target_size=(150,150))\r\n",
        "\r\n",
        "img_pred=image.img_to_array(img_pred)\r\n",
        "img_pred=np.expand_dims(img_pred,axis=0)"
      ],
      "execution_count": null,
      "outputs": []
    },
    {
      "cell_type": "code",
      "metadata": {
        "colab": {
          "base_uri": "https://localhost:8080/"
        },
        "id": "o0_Ysqbm2rOQ",
        "outputId": "2c72f207-01fa-4735-c3d6-ba12e66bc068"
      },
      "source": [
        "rslt=model.predict(img_pred)\r\n",
        "print(rslt)"
      ],
      "execution_count": null,
      "outputs": [
        {
          "output_type": "stream",
          "text": [
            "[[0.]]\n"
          ],
          "name": "stdout"
        }
      ]
    },
    {
      "cell_type": "code",
      "metadata": {
        "id": "WdogjdpH6WNh"
      },
      "source": [
        "\r\n",
        "img_pred=image.load_img('/content/drive/MyDrive/eye_new/test/Closed_Eyes/_181.jpg',target_size=(150,150))\r\n",
        "\r\n",
        "img_pred=image.img_to_array(img_pred)\r\n",
        "img_pred=np.expand_dims(img_pred,axis=0)"
      ],
      "execution_count": null,
      "outputs": []
    },
    {
      "cell_type": "code",
      "metadata": {
        "colab": {
          "base_uri": "https://localhost:8080/"
        },
        "id": "ejqP1LMR6Ymx",
        "outputId": "1c256532-b648-42f7-851d-cca563a5d98c"
      },
      "source": [
        "rslt=model.predict(img_pred)\r\n",
        "print(rslt)"
      ],
      "execution_count": null,
      "outputs": [
        {
          "output_type": "stream",
          "text": [
            "[[0.]]\n"
          ],
          "name": "stdout"
        }
      ]
    }
  ]
}